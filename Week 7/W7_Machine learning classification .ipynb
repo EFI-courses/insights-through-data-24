{
 "cells": [
  {
   "attachments": {
    "image-2.png": {
     "image/png": "[encoded data removed]"
    }
   },
   "cell_type": "markdown",
   "id": "ff8ee9a1",
   "metadata": {},
   "source": [
    "# Machine Learning\n",
    "\n",
    "## The Scikit Learn module\n",
    "\n",
    "The [scikit learn](https://scikit-learn.org/stable/) module is an open source module dedicated to implementing machine learning methods in python. It is the tool we will use for the next few weeks to explore these methods and apply them to some data.\n",
    "\n",
    "![image-2.png](attachment:image-2.png)\n",
    "\n",
    "- There are particular sections of the module dedicated to supervised and unsupervised machine learning tasks (recall these are where we have training examples and where we do not respectively). \n",
    "\n",
    "- Here we are going to focus on supervised classification methods (KNNs and Decision Tree example), that is, given training data classified into two classes (denoted 1 and 0), we want to use that data to construct a way to classify new data points based on that information.\n",
    "\n",
    "Firstly we are going to need to import some modules and functions to get started (we'll particularly take sub-modules connected to nearest neighbours and decision trees):"
   ]
  },
  {
   "cell_type": "code",
   "execution_count": null,
   "id": "8aeeb7a2",
   "metadata": {},
   "outputs": [],
   "source": [
    "# Importing the pandas library for data manipulation and analysis\n",
    "import pandas as pd\n",
    "\n",
    "# Importing the entire scikit-learn library,\n",
    "import sklearn as skl\n",
    "\n",
    "# Importing matplotlib.pyplot for plotting and visualizing data\n",
    "import matplotlib.pyplot as plt\n",
    "\n",
    "# Importing seaborn, a data visualization library built on top of matplotlib\n",
    "import seaborn as sns\n",
    "\n",
    "# Importing neighbors module from scikit-learn, which includes algorithms for classification and regression \n",
    "import sklearn.neighbors as nei\n",
    "\n",
    "# Importing the tree module from scikit-learn, which provides decision tree algorithms \n",
    "import sklearn.tree as tree"
   ]
  },
  {
   "cell_type": "markdown",
   "id": "4cb6c61a",
   "metadata": {},
   "source": [
    "For the given examples below, it is better to check out these functions in detail during your study\n",
    "\n",
    "- **KNN model fit :** [KNeighborsClassifier](https://scikit-learn.org/dev/modules/generated/sklearn.neighbors.KNeighborsClassifier.html)\n",
    "\n",
    "- **Data Splitting:** [train_test_split](https://scikit-learn.org/1.5/modules/generated/sklearn.model_selection.train_test_split.html)\n",
    "\n",
    "- **Decision Tree model fit:** [DecisionTreeClassifier](https://scikit-learn.org/dev/modules/generated/sklearn.neighbors.KNeighborsClassifier.html)\n",
    "    "
   ]
  },
  {
   "cell_type": "markdown",
   "id": "78bf3bfa",
   "metadata": {},
   "source": [
    "## Reproducibility of the results\n",
    "\n",
    "To make sure that we will get the same output if we run the same function several times, we provide the pseudorandom number generator with a fixed seed using the `random_state` parameter. \n",
    "\n",
    "This will make the outcome deterministic, so this line will always have the same outcome. \n",
    "\n",
    "- To control this, we should be careful about the use of `train_test_split` and `DecisionTreeClassifier` function input arguments for this week material\n",
    "\n",
    "- We can set that value in advance in this format given below"
   ]
  },
  {
   "cell_type": "code",
   "execution_count": null,
   "id": "1a88cf15",
   "metadata": {},
   "outputs": [],
   "source": [
    "# For the fixed seed\n",
    "random_state = 42"
   ]
  },
  {
   "cell_type": "markdown",
   "id": "ed92db59",
   "metadata": {},
   "source": [
    "## First example: Simulated Data\n",
    "\n",
    "The first example we will work with is a synthetic dataset, made as it just has two features, which means we can plot the data points within the feature space more easily to get a handle on what's going on.\n",
    "\n",
    "Our dataset comes split in two parts `synth.tr.csv` and `synth.te.csv`, the first one containing our training data and the second our test data. Both therefore have labels, but recall we don't use the labels in the test set to build our model, just to compare with the predictions of our classifier to see how well we do.\n",
    "\n",
    "First let's load in the training dataset and have a look at it. Here is a scatter plot."
   ]
  },
  {
   "cell_type": "code",
   "execution_count": null,
   "id": "2fbdf089",
   "metadata": {},
   "outputs": [],
   "source": [
    "# Load training data from a CSV file into a pandas DataFrame\n",
    "class_data = pd.read_csv('synth.tr.csv')\n",
    "\n",
    "# Display the first five rows of the dataset to understand its structure\n",
    "print(class_data.head())"
   ]
  },
  {
   "cell_type": "code",
   "execution_count": null,
   "id": "d312ce4e",
   "metadata": {},
   "outputs": [],
   "source": [
    "# Create a scatter plot of 'xs' vs 'ys' from the training data, colored by 'yc' class labels\n",
    "sns.scatterplot(data=class_data, x='xs', y='ys', hue='yc')\n",
    "\n",
    "# Add a title to the plot and show the plot\n",
    "plt.title('Scatter plot - coloured by class')\n",
    "plt.show()"
   ]
  },
  {
   "cell_type": "markdown",
   "id": "0c3be9bb",
   "metadata": {},
   "source": [
    "## Fitting KNN\n",
    "\n",
    "Next we want to make a [K nearest neighbour classifier](https://scikit-learn.org/dev/modules/generated/sklearn.neighbors.KNeighborsClassifier.html) based on this training data. To do that we start a classifier model, specifying K and the distance metric we will use (here we specify `K=3`, and normal `Euclidean` distance).\n",
    "\n",
    "We can predict a value of the class label for a made up data point - here we try the point (0,1) which looks like it should definitely be a 1 since it is in the middle of lots of orange points in the plot above."
   ]
  },
  {
   "cell_type": "code",
   "execution_count": null,
   "id": "c86d7699",
   "metadata": {},
   "outputs": [],
   "source": [
    "# Initialize a k-nearest neighbors classifier with k=3 neighbors and Euclidean distance metric\n",
    "knn_class = nei.KNeighborsClassifier(n_neighbors=3, metric='euclidean')\n",
    "\n",
    "# Fit the KNN classifier on the training data ('xs' and 'ys' as input, 'yc' as target labels)\n",
    "knn_class.fit(class_data[['xs', 'ys']], class_data['yc'])\n",
    "\n",
    "# Use the trained classifier to predict the class for a new data point [0, 1]\n",
    "print(knn_class.predict([[0, 1]]))"
   ]
  },
  {
   "cell_type": "markdown",
   "id": "5191a4ce",
   "metadata": {},
   "source": [
    "**Don't worry about the warning we get from the last line - this is just saying we passed in data without heading names within a dataframe - and the training data was in a dataframe - so just warning us of the mismatch.**\n",
    "\n",
    "Note that we have two methods associated with our classifier (denoted by the . notation to get to them). \n",
    "\n",
    "- One is the `fit()` method that we pass in our data to. The pattern is the data points - here simply two columns of our dataframe, and then the associated label, here contained in another column of our dataframe. \n",
    "\n",
    "- The second method `predict()` is used to apply our classifier to a new data point - we can give it a data point and ask what class the classifier gives as an output.\n",
    "\n",
    "- As you explored above, the default settings of the parameters in `KNeighborsClassifier()` function is crucial, since by default it runs k=5 case as `n_neighbors=5` and `metric='minkowski'`. Make sure that you did the correct changes\n",
    "\n",
    "So far so good then. We have a classifier, and we can test it out on a data point and it gives a classification. The next step is to look at our test data and see if we can begin to qunatify how well our classifier has done.\n",
    "\n",
    "First we can load in and have a look at the test data:"
   ]
  },
  {
   "cell_type": "code",
   "execution_count": null,
   "id": "307ca10c",
   "metadata": {},
   "outputs": [],
   "source": [
    "# Load test data from a CSV file into a pandas DataFrame\n",
    "test_data = pd.read_csv('synth.te.csv')\n",
    "\n",
    "# Create a scatter plot of 'xs' vs 'ys' from the test data, using green color for all points\n",
    "sns.scatterplot(data=test_data, x=\"xs\", y=\"ys\", color='green')\n",
    "\n",
    "# Add a title to the plot and show the plot\n",
    "plt.title(\"Scatter plot of test data\")\n",
    "plt.show()"
   ]
  },
  {
   "cell_type": "markdown",
   "id": "091e2c7d",
   "metadata": {},
   "source": [
    "These are all of the data points in the test dataset. We then have to classify them by using our classifier above. It will find the nearest three points in our training dataset to each point here, and let them vote on the class for the point. With 3 neighbours selected there cannot be a draw.\n",
    "\n",
    "We can use the `predict()` method again here, this time passing in all of the data points within our test dataset. The next line creates a new column of the dataframe which we call 'class'."
   ]
  },
  {
   "cell_type": "code",
   "execution_count": null,
   "id": "a0e88da8",
   "metadata": {},
   "outputs": [],
   "source": [
    "# Use the trained KNN classifier to predict the class labels for the test data\n",
    "test_data['class'] = knn_class.predict(test_data[['xs', 'ys']])\n",
    "\n",
    "# Print the test data with predicted class labels\n",
    "print(test_data)"
   ]
  },
  {
   "cell_type": "markdown",
   "id": "937d5ba9",
   "metadata": {},
   "source": [
    "We can look at the results of this classification. Here is the test dataset coloured according to the predicted class of each point:"
   ]
  },
  {
   "cell_type": "code",
   "execution_count": null,
   "id": "994f8846",
   "metadata": {},
   "outputs": [],
   "source": [
    "# Create a scatter plot of 'xs' vs 'ys' from the test data, colored by predicted class\n",
    "sns.scatterplot(data=test_data, x=\"xs\", y=\"ys\", hue='class')\n",
    "\n",
    "# Add a title to the plot and show the plot\n",
    "plt.title(\"Scatter plot - test data coloured by class\")\n",
    "plt.show()"
   ]
  },
  {
   "cell_type": "markdown",
   "id": "3dd1712c",
   "metadata": {},
   "source": [
    "We could also overlay on the plot all of the training data. Here we do that using triangular markers for the training data.\n",
    "\n",
    "You can look to see the closest 3 triangles to each circle - they are the ones which voted on that classification."
   ]
  },
  {
   "cell_type": "code",
   "execution_count": null,
   "id": "fe73aa5e",
   "metadata": {},
   "outputs": [],
   "source": [
    "# Create a scatter plot of 'xs' vs 'ys' from original data, colored by predicted class\n",
    "sns.scatterplot(data=class_data, x=\"xs\", y=\"ys\", hue=\"yc\", marker='^',legend=None)\n",
    "\n",
    "# Create a scatter plot of 'xs' vs 'ys' from test data, colored by predicted class\n",
    "sns.scatterplot(data=test_data, x=\"xs\", y=\"ys\",hue='class')\n",
    "\n",
    "# Add a title to the plot and show the plot\n",
    "plt.title(\"Scatter plot - test data coloured by class\")\n",
    "plt.show()"
   ]
  },
  {
   "cell_type": "markdown",
   "id": "6f7804e8",
   "metadata": {},
   "source": [
    "## Assessing the classifier\n",
    "\n",
    "Looking at our test dataset we have two columns now which contain the real class of our data points 'yc', and the predicted class 'class'."
   ]
  },
  {
   "cell_type": "code",
   "execution_count": null,
   "id": "c78b8be6",
   "metadata": {},
   "outputs": [],
   "source": [
    "# Printing the first five observations from test data with real vs predicted classes\n",
    "print(test_data.head())"
   ]
  },
  {
   "cell_type": "markdown",
   "id": "99199ff8",
   "metadata": {},
   "source": [
    "Note that we can't see much from just the top of the dataframe. But if we look through the dataframe we can find locations where the values in these two columns don't match:"
   ]
  },
  {
   "cell_type": "code",
   "execution_count": null,
   "id": "d267f909",
   "metadata": {},
   "outputs": [],
   "source": [
    "# Subsetting the cases where the true and predicted values do not match\n",
    "print(test_data[test_data['yc']!=test_data['class']])"
   ]
  },
  {
   "cell_type": "markdown",
   "id": "7205182a",
   "metadata": {},
   "source": [
    "- Note we have made both types of errors here (FP and FN cases), places where we have predicted a 1 but the real answer was a 0 - a False Positive. And also places where we precited a 0 but the real answer was 1 a False Negative.\n",
    "\n",
    "We can summarise all of the True/False Positive/Negatives in a confusion matrix. We can also look at the balanced accuracy and F scores (look back at the slides to see the definitions of each of these). "
   ]
  },
  {
   "cell_type": "code",
   "execution_count": null,
   "id": "4e10370c",
   "metadata": {},
   "outputs": [],
   "source": [
    "# Compute and display the confusion matrix comparing true labels with predicted labels\n",
    "print(skl.metrics.confusion_matrix(y_true = test_data['yc'], y_pred = test_data['class']))\n",
    "\n",
    "# Compute and display the balanced accuracy score for the model's predictions\n",
    "print(skl.metrics.balanced_accuracy_score(y_true = test_data['yc'], y_pred = test_data['class']))\n",
    "\n",
    "# Compute and display the F1 score for the model's predictions\n",
    "print(skl.metrics.f1_score(y_true = test_data['yc'], y_pred = test_data['class']))"
   ]
  },
  {
   "cell_type": "markdown",
   "id": "0e02359f",
   "metadata": {},
   "source": [
    "We can see we do a pretty good job, the majority of points are well classified. \n",
    "\n",
    "Let's compare to another model to see if we can do better - let's try KNN for the case K=5. Here we fit that model, predict the classes on the test dataset and compute our scores again just as before:"
   ]
  },
  {
   "cell_type": "code",
   "execution_count": null,
   "id": "8022e41e",
   "metadata": {},
   "outputs": [],
   "source": [
    "# Initialize a k-nearest neighbors classifier with k=5 neighbors and Euclidean distance metric\n",
    "# and fit for the data again, then make predictions\n",
    "knn_class = nei.KNeighborsClassifier(n_neighbors = 5, metric = 'euclidean')\n",
    "knn_class.fit(class_data[['xs','ys']],class_data['yc'])\n",
    "test_data['class'] = knn_class.predict(test_data[['xs','ys']])\n",
    "\n",
    "# Compute and display the confusion matrix comparing true labels with predicted labels\n",
    "print(skl.metrics.confusion_matrix(y_true = test_data['yc'],y_pred = test_data['class']))\n",
    "# Compute and display the balanced accuracy score for the model's predictions\n",
    "print(skl.metrics.balanced_accuracy_score(y_true = test_data['yc'], y_pred = test_data['class']))\n",
    "# Compute and display the F1 score for the model's predictions\n",
    "print(skl.metrics.f1_score(y_true = test_data['yc'],y_pred = test_data['class']))"
   ]
  },
  {
   "cell_type": "markdown",
   "id": "8f55f22c",
   "metadata": {},
   "source": [
    "### Classification Metric summary\n",
    "\n",
    "It is possible to get a classification metrics summary by using the function called [`classification_report`](https://scikit-learn.org/1.5/modules/generated/sklearn.metrics.classification_report.html), as exemplified below"
   ]
  },
  {
   "cell_type": "code",
   "execution_count": null,
   "id": "1e6baa36",
   "metadata": {},
   "outputs": [],
   "source": [
    "# Build a text report showing the main classification metrics.\n",
    "from sklearn.metrics import classification_report\n",
    "\n",
    "# Generate and display a detailed classification report\n",
    "print(classification_report(test_data['yc'], test_data['class']))"
   ]
  },
  {
   "cell_type": "markdown",
   "id": "a360a1f1",
   "metadata": {},
   "source": [
    "So by all of these metrics the K=5 classifier appears to be a bit better than the K=3. \n",
    "\n",
    "## Second example: Diabetes Data Set\n",
    "\n",
    "\n",
    "This second data, namely `pima-indians-diabetes.csv` contains measurements of various health indicators for use as a predictor for whether the study participants would go on to develop diabetes. The final column gives the true outcome for what happened to each participant.\n",
    "\n",
    "We can load in the data. Note there are more columns in this data - so the feature space is now 8-dimensional, which means we cannot simply visualise it all now. We will just look at a cross-section of the feature space and show the sixth column against the second column to get a small sense of how the feature space looks.\n",
    "\n",
    "Data Source: [Smith, J. W., Everhart, J. E., Dickson, W. C., Knowler, W. C. and Johannes, R. S. (1988) Using the ADAP learning algorithm to forecast the onset of diabetes mellitus. In Proceedings of the Symposium on Computer Applications in Medical Care (Washington, 1988), ed. R. A. Greenes, pp. 261–265. Los Alamitos, CA: IEEE Computer Society Press.](https://pmc.ncbi.nlm.nih.gov/articles/PMC2245318/)"
   ]
  },
  {
   "cell_type": "code",
   "execution_count": null,
   "id": "9c1ced4b",
   "metadata": {},
   "outputs": [],
   "source": [
    "# Uploading data set via pandas\n",
    "diabetes_data = pd.read_csv('pima-indians-diabetes.csv')\n",
    "# Looking at the first five observations by using head\n",
    "print(diabetes_data.head())\n",
    "\n",
    "# Below returns a view object, that contains the keys of the dictionary, as a list.\n",
    "print(diabetes_data.keys())"
   ]
  },
  {
   "cell_type": "code",
   "execution_count": null,
   "id": "d08158ef",
   "metadata": {},
   "outputs": [],
   "source": [
    "# Looking at the relationship between glu and bmi based on class split\n",
    "sns.scatterplot(data=diabetes_data, x='glu', y='bmi', hue='class')\n",
    "plt.title(\"Scatter plot - coloured by class\")\n",
    "plt.show()"
   ]
  },
  {
   "cell_type": "markdown",
   "id": "91d454ed",
   "metadata": {},
   "source": [
    "- We can see some separation of the different classes, but of course we are missing the other directions in the feature space in our plot, so we can't tell whether those which merge together in the middle in our plot might separate out more if we look at other planes of the data.\n",
    "\n",
    "- In this data set all of the labelled data is clumped in together in one file. **So we need to split it ourselves into a training set and a test set.** We can use a function called [`sklearn.model_selection.train_test_split`](https://scikit-learn.org/1.5/modules/generated/sklearn.model_selection.train_test_split.html) in scikit learn to do this for us. \n",
    "\n",
    "Note the form of the following line. \n",
    "\n",
    "  >- The function outputs data points for the train and test portions, and separately the classes for the train and test data points - usually called X and y respectively. \n",
    "  >- In the input of the function we need to give the columns of data which make up our feature space, and the column with our labels. We also need to specify what fraction of the data we want to be used as a test set (usually we want to retain most of the data to do training with). \n",
    "  >- Here we specify a third of the data to be our test set."
   ]
  },
  {
   "cell_type": "code",
   "execution_count": null,
   "id": "39c57922",
   "metadata": {},
   "outputs": [],
   "source": [
    "# Splitting the data set into train and test subset \n",
    "X = diabetes_data[['npreg', 'glu', 'bp', 'skin', 'ins', 'bmi', 'ped', 'age']]\n",
    "\n",
    "y = diabetes_data['class']\n",
    "# Considered split ratio is the 70/30 for the train/test subsetting\n",
    "X_train, X_test, y_train, y_test = skl.model_selection.train_test_split(X, y, test_size=0.30, \n",
    "                                                                        random_state = random_state)\n"
   ]
  },
  {
   "cell_type": "code",
   "execution_count": null,
   "id": "98363244",
   "metadata": {},
   "outputs": [],
   "source": [
    "# Check the shape (dimension) of the original data, training and testing datasets\n",
    "print(diabetes_data.shape)\n",
    "\n",
    "print(\"X_train shape:\", X_train.shape)\n",
    "print(\"X_test shape:\", X_test.shape)\n",
    "print(\"y_train shape:\", y_train.shape)\n",
    "print(\"y_test shape:\", y_test.shape)"
   ]
  },
  {
   "cell_type": "markdown",
   "id": "27898297",
   "metadata": {},
   "source": [
    "Next we can use the `fit()` method to fit our KNN classifier for K=3. Then use the `predict()` method on our test data to obtain predicted classes for each data point in the test set."
   ]
  },
  {
   "cell_type": "code",
   "execution_count": null,
   "id": "81c1eecb",
   "metadata": {},
   "outputs": [],
   "source": [
    "# Initialize a k-nearest neighbors classifier with k=3 neighbors and Euclidean distance metric\n",
    "knn_class = nei.KNeighborsClassifier(n_neighbors = 3, metric='euclidean')\n",
    "\n",
    "# Fit the KNN classifier on the training data\n",
    "knn_class.fit(X_train, y_train)\n",
    "\n",
    "# Use the trained classifier to predict the class for a new data point\n",
    "y_predict = knn_class.predict(X_test)\n",
    "\n",
    "print(y_predict)"
   ]
  },
  {
   "cell_type": "markdown",
   "id": "4ee3db06",
   "metadata": {},
   "source": [
    "Now we have both the real classes (contained in `y_test`) and the predicted classes (contained in `y_predict`) we can use these to obtain our various metrics to determine how well our classifier performed:"
   ]
  },
  {
   "cell_type": "code",
   "execution_count": null,
   "id": "42b08e71",
   "metadata": {},
   "outputs": [],
   "source": [
    "# Generating the Confusion matrix\n",
    "print('Confusion matrix: ',skl.metrics.confusion_matrix(y_test,y_predict))\n",
    "\n",
    "# Calculating the Precision value\n",
    "print('Precision: ',skl.metrics.precision_score(y_test,y_predict))\n",
    "\n",
    "# Calculating the Recall value\n",
    "print('Recall: ',skl.metrics.recall_score(y_test,y_predict))\n",
    "\n",
    "# Calculating the Balanced accuracy\n",
    "print('Balanced accuracy: ',skl.metrics.balanced_accuracy_score(y_test,y_predict))\n",
    "\n",
    "# Calculating the F1 score\n",
    "print('F1 score: ',skl.metrics.f1_score(y_true=y_test,y_pred=y_predict))"
   ]
  },
  {
   "cell_type": "markdown",
   "id": "e7c06f63",
   "metadata": {},
   "source": [
    "We can also look at the difference between the true and predicted classes in our slice of the feature space. Here is what they look like - you can see at least a few points which are different across the two plots:"
   ]
  },
  {
   "cell_type": "code",
   "execution_count": null,
   "id": "2b6b17a8",
   "metadata": {},
   "outputs": [],
   "source": [
    "sns.scatterplot(data=X_test, x='glu', y='bmi', hue=y_test)\n",
    "plt.title(\"Scatter plot - coloured by class - true class\")\n",
    "plt.show()\n",
    "\n",
    "sns.scatterplot(data=X_test, x='glu', y='bmi', hue=y_predict)\n",
    "plt.title(\"Scatter plot - coloured by class - predicted class\")\n",
    "plt.show()"
   ]
  },
  {
   "cell_type": "markdown",
   "id": "f1c6d25b",
   "metadata": {},
   "source": [
    "## Decision Trees\n",
    "\n",
    "We can also fit a decision tree classifier to the same data, via [DecisionTreeClassifier](https://scikit-learn.org/dev/modules/generated/sklearn.tree.DecisionTreeClassifier.html). \n",
    "\n",
    "- The nice thing about the scikit learn module is that the `fit()` and `predict()` methods work in a reasonably standard way so fitting a new classifier model is pretty straightforward and follows a similar pattern.\n",
    "\n",
    "- To do it we make a new decision tree classifier, use the `fit()` method with our training data, and use the `predict()` method with our test data - all in pretty similar fashion to the way we did this for the KNN case above:"
   ]
  },
  {
   "cell_type": "code",
   "execution_count": null,
   "id": "57125d10",
   "metadata": {},
   "outputs": [],
   "source": [
    "# Initialize a Decision Tree Classifier object\n",
    "# To get the same result for each run, we fixed the random seed here, otherwise without \n",
    "# using `random_state=random_state` you can get different outputs\n",
    "dt_class = tree.DecisionTreeClassifier(random_state=random_state)\n",
    "\n",
    "# Train (fit) the Decision Tree classifier on the training data (X_train, y_train)\n",
    "dt_fit = dt_class.fit(X_train, y_train)\n",
    "\n",
    "# Use the trained Decision Tree classifier to predict the labels for the test data (X_test)\n",
    "y_predict = dt_class.predict(X_test)"
   ]
  },
  {
   "cell_type": "code",
   "execution_count": null,
   "id": "2cb0f0c5",
   "metadata": {},
   "outputs": [],
   "source": [
    "# Visualize the trained Decision Tree\n",
    "tree.plot_tree(dt_fit)"
   ]
  },
  {
   "cell_type": "markdown",
   "id": "cea30730",
   "metadata": {},
   "source": [
    "As you explore above, some of the parameters of the DecisionTreeClassifier is really crucial to work out including the `max_depth`: The maximum depth of the tree, as an example \n",
    "\n",
    "If we use the default as `None`, then nodes are expanded until all leaves are pure or until all leaves contain less than min_samples_split samples. As we can see from, there is a large complex tree appeared and not easy to navigate. \n",
    "\n",
    "To simplify a bit, let us set the `max_depth = 2` to see how the fit looks like if we consider such a pre-determined model parameter. "
   ]
  },
  {
   "cell_type": "code",
   "execution_count": null,
   "id": "28961d42",
   "metadata": {},
   "outputs": [],
   "source": [
    "# Initialize a Decision Tree Classifier object\n",
    "dt_class = tree.DecisionTreeClassifier(max_depth = 2, random_state = random_state)\n",
    "\n",
    "# Train (fit) the Decision Tree classifier on the training data (X_train, y_train)\n",
    "dt_fit = dt_class.fit(X_train, y_train)\n",
    "\n",
    "# Use the trained Decision Tree classifier to predict the labels for the test data (X_test)\n",
    "y_predict = dt_class.predict(X_test)\n",
    "\n",
    "# Visualize the trained Decision Tree\n",
    "tree.plot_tree(dt_fit)"
   ]
  },
  {
   "cell_type": "markdown",
   "id": "4cf5262f",
   "metadata": {},
   "source": [
    "Now we can see more readable tree fit output, but remember that we manually set the parameter as 2. \n",
    "\n",
    "- Considering the order of the variables in our data set from `X = diabetes_data[['npreg', 'glu', 'bp', 'skin', 'ins', 'bmi', 'ped', 'age']]`, looks like in the root node, the variable `glu` is selected to start with the splitting, thereafter `bmi` and `age` are used in the internal nodes. \n",
    "\n",
    "- In terms of the split, we can see which proportions of the data is splitted as diabetes or non-diabetes, which are captures in the `value` (such as 349 vs 188, their sum should match with the `samples` value) parameter for the each node based on the model fit. \n",
    "\n",
    "- This structure is preserved for the all nodes from root node to the leafs (from top to the bottom)\n",
    "\n",
    "- In terms of the flow of the decision tree, when the `glu <=154.5` is **TRUE**, we followed the left branch and considered the `age` parameter for another split whereas if the condition `glu <=154.5` is not true (**FALSE**), tree splitting follows the right-hand-side branch and the model used `bmi` for further split. \n",
    "\n",
    "- In each node, we have also unique indicator called `Gini impurity` that we did not discuss in detail so far. For the scope of our course, no need to worry about its technical details but feel free to explore from that reading blog;\n",
    "\n",
    "[A Simple Explanation of Gini Impurity](https://victorzhou.com/blog/gini-impurity/)\n",
    "\n"
   ]
  },
  {
   "cell_type": "markdown",
   "id": "e42b6616",
   "metadata": {},
   "source": [
    "Now we have the true and predicted classes again, we can go ahead and find all of the metrics which detail how well the classifier has worked:"
   ]
  },
  {
   "cell_type": "code",
   "execution_count": null,
   "id": "4cf0ab6e",
   "metadata": {},
   "outputs": [],
   "source": [
    "# Generating the Confusion matrix\n",
    "print('Confusion matrix: ',skl.metrics.confusion_matrix(y_test,y_predict))\n",
    "\n",
    "# Calculating the Precision value\n",
    "print('Precision: ',skl.metrics.precision_score(y_test,y_predict))\n",
    "\n",
    "# Calculating the Recall value\n",
    "print('Recall: ',skl.metrics.recall_score(y_test,y_predict))\n",
    "\n",
    "# Calculating the Balanced accuracy value\n",
    "print('Balanced accuracy: ',skl.metrics.balanced_accuracy_score(y_test,y_predict))\n",
    "\n",
    "# Calculating the F1 score value\n",
    "print('F1 score: ',skl.metrics.f1_score(y_true = y_test, y_pred = y_predict))"
   ]
  },
  {
   "cell_type": "markdown",
   "id": "4cfad442",
   "metadata": {},
   "source": [
    "Comparing to the KNN classifier above it looks like this does generally worse.\n",
    "\n",
    "**Self-Thinking**: How do you compare both results regarding each performance metrics one by one ?\n",
    "Focus more on FP/FN values or certain metrics we obtained above.\n",
    "\n",
    "Once again we can plot our cross section of the data showing the real and predited classes - again we can see some differences as we would expect:"
   ]
  },
  {
   "cell_type": "code",
   "execution_count": null,
   "id": "49738065",
   "metadata": {},
   "outputs": [],
   "source": [
    "sns.scatterplot(data=X_test, x='glu', y='bmi', hue=y_test)\n",
    "plt.title(\"Scatter plot - coloured by class - true class\")\n",
    "plt.show()\n",
    "\n",
    "sns.scatterplot(data=X_test, x='glu', y='bmi', hue=y_predict)\n",
    "plt.title(\"Scatter plot - coloured by class - predicted class\")\n",
    "plt.show()"
   ]
  },
  {
   "cell_type": "markdown",
   "id": "2011a10f",
   "metadata": {},
   "source": [
    "## Exercises\n",
    "\n",
    "Here is a new dataset that contains 4 columns in the relevant dataframe. \n",
    "**The first 3 columns represent the features, the fourth is the real class of each data point.**"
   ]
  },
  {
   "cell_type": "code",
   "execution_count": null,
   "id": "e240070c",
   "metadata": {},
   "outputs": [],
   "source": [
    "operation_data = pd.read_csv('haberman.csv')\n",
    "\n",
    "print(operation_data.head())\n",
    "print(operation_data.keys())"
   ]
  },
  {
   "cell_type": "markdown",
   "id": "9ddd91f8",
   "metadata": {},
   "source": [
    "1) Split the data up into a training and test dataset, use 50% of the data in each set."
   ]
  },
  {
   "cell_type": "code",
   "execution_count": null,
   "id": "c1b1481d",
   "metadata": {},
   "outputs": [],
   "source": []
  },
  {
   "cell_type": "markdown",
   "id": "17ba2db7",
   "metadata": {},
   "source": [
    "2) Fit a decision tree classifier to the data and output the balanced accuracy and F1 score.\n",
    "\n",
    "Hint: Consider fixing the `random_state` parameter inside of the `DecisionTreeClassifier()` function"
   ]
  },
  {
   "cell_type": "code",
   "execution_count": null,
   "id": "0d94ce25",
   "metadata": {},
   "outputs": [],
   "source": []
  },
  {
   "cell_type": "markdown",
   "id": "a45ac622",
   "metadata": {},
   "source": [
    "3) Fit the KNN classifier with K=3 to the data and output the balanced accuracy and F1 score."
   ]
  },
  {
   "cell_type": "code",
   "execution_count": null,
   "id": "138d5911",
   "metadata": {},
   "outputs": [],
   "source": []
  },
  {
   "cell_type": "markdown",
   "id": "e7c6bef2",
   "metadata": {},
   "source": [
    "4) Which method did best? What's your justification for that conclusion?"
   ]
  },
  {
   "cell_type": "markdown",
   "id": "cccbb642",
   "metadata": {},
   "source": []
  }
 ],
 "metadata": {
  "kernelspec": {
   "display_name": "Python 3 (ipykernel)",
   "language": "python",
   "name": "python3"
  },
  "language_info": {
   "codemirror_mode": {
    "name": "ipython",
    "version": 3
   },
   "file_extension": ".py",
   "mimetype": "text/x-python",
   "name": "python",
   "nbconvert_exporter": "python",
   "pygments_lexer": "ipython3",
   "version": "3.9.13"
  }
 },
 "nbformat": 4,
 "nbformat_minor": 5
}
