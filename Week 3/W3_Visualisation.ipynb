{
 "cells": [
  {
   "cell_type": "markdown",
   "id": "b6b7241d",
   "metadata": {},
   "source": [
    "# An introduction to visualisation in Python"
   ]
  },
  {
   "cell_type": "markdown",
   "id": "0eea8c8c",
   "metadata": {},
   "source": [
    "Data visualization is displaying quantitative and qualitative information so that a viewer can see\n",
    "patterns, trends, oddities, correlations, constancy, and variation, in ways that other forms (text and table) may not allow. Plotting parts of data can be an important step in descriptive and exploratory analyses. Here we introduce two main plotting libraries in Python: __matplotlib__ and __seaborn__. \n",
    "\n",
    "Note that the EFI has a full course on visualisation named [Representing Data](http://www.drps.ed.ac.uk/24-25/dpt/cxefie11002.htm) in which you can learn about data visualisation theory and practice. "
   ]
  },
  {
   "cell_type": "markdown",
   "id": "7867b44c",
   "metadata": {},
   "source": [
    "## matplotlib library"
   ]
  },
  {
   "cell_type": "markdown",
   "id": "0e2794e2",
   "metadata": {},
   "source": [
    "[Matplotlib](https://matplotlib.org/stable/index.html) is a visualization  library/module/package in Python for 2D plots. It allows us visual access to huge amounts of data in easily digestible visuals. Matplotlib can produce several plots like line, bar, scatter, histogram etc."
   ]
  },
  {
   "cell_type": "code",
   "execution_count": null,
   "id": "4ee260be",
   "metadata": {},
   "outputs": [],
   "source": [
    "# import matplotlib\n",
    "import matplotlib.pyplot as plt\n",
    "\n",
    "# import other packages we may need\n",
    "import pandas as pd\n",
    "import numpy as np"
   ]
  },
  {
   "cell_type": "markdown",
   "id": "bc5d0aed",
   "metadata": {},
   "source": [
    "The default plot in matplotlib is a line plot made by the function `plot`."
   ]
  },
  {
   "cell_type": "code",
   "execution_count": null,
   "id": "9d747da0",
   "metadata": {},
   "outputs": [],
   "source": [
    "# X-axis values\n",
    "x = [5, 2, 9, 4, 7]\n",
    "\n",
    "# Y-axis values\n",
    "y = [10, 5, 8, 4, 2]\n",
    "\n",
    "# function to plot\n",
    "plt.plot(x,y)\n",
    "\n",
    "# add labels and title to the plot\n",
    "plt.xlabel(\"X-axis data\")\n",
    "plt.ylabel(\"Y-axis data\")\n",
    "plt.title('plot of X vs Y')\n",
    "\n",
    "# function to show the plot\n",
    "plt.show()"
   ]
  },
  {
   "cell_type": "markdown",
   "id": "9c8c8978",
   "metadata": {},
   "source": [
    "Make several adjustments to how the plot is displayed:"
   ]
  },
  {
   "cell_type": "code",
   "execution_count": null,
   "id": "58c12935",
   "metadata": {},
   "outputs": [],
   "source": [
    "# X-axis values\n",
    "x = [5, 2, 9, 4, 7]\n",
    "\n",
    "# Y-axis values\n",
    "y = [10, 5, 8, 4, 2]\n",
    "\n",
    "# change the size of the figure- has to be called before the plot function\n",
    "plt.figure(figsize=(10,5))\n",
    "\n",
    "# function to plot\n",
    "plt.plot(x, y, marker='v', markersize= 10, color='r', linestyle='--', linewidth = 2)\n",
    "\n",
    "# add labels and title to the plot\n",
    "plt.xlabel(\"X-axis data\")\n",
    "plt.ylabel(\"Y-axis data\")\n",
    "plt.title('plot of X vs Y')\n",
    "\n",
    "# function to show the plot\n",
    "plt.show()"
   ]
  },
  {
   "cell_type": "markdown",
   "id": "1a99359c",
   "metadata": {},
   "source": [
    "When you need to learn more about a function and its specifications, you can search it online or try Python's help, by running this command \"?functionname\". For example, uncomment and run the command below to see Python's help description about `plt.plot`."
   ]
  },
  {
   "cell_type": "code",
   "execution_count": null,
   "id": "27454697",
   "metadata": {},
   "outputs": [],
   "source": [
    "?plt.plot"
   ]
  },
  {
   "cell_type": "markdown",
   "id": "3f72ee81",
   "metadata": {},
   "source": [
    "Some other types of plots in matplolib are `plt.scatter`, `plt.bar`, `plt.hist`, `plt.pie` that fit different types of data. "
   ]
  },
  {
   "cell_type": "code",
   "execution_count": null,
   "id": "5fdba042",
   "metadata": {},
   "outputs": [],
   "source": [
    "# X-axis values\n",
    "x = [5, 2, 9, 4, 7]\n",
    "\n",
    "# Y-axis values\n",
    "y = [10, 5, 8, 4, 2]\n",
    "\n",
    "# function to plot- also change it to plt.bar(x, y) to make a bar plot\n",
    "plt.scatter(x, y)\n",
    "\n",
    "# add labels and title to the plot\n",
    "plt.xlabel(\"X-axis data\")\n",
    "plt.ylabel(\"Y-axis data\")\n",
    "plt.title('plot of X vs Y')\n",
    "\n",
    "# function to show the plot\n",
    "plt.show()"
   ]
  },
  {
   "cell_type": "markdown",
   "id": "0870c893",
   "metadata": {},
   "source": [
    "A histogram is a graph used to represent the frequency distribution of data points of one variable. Histograms often classify data into various “bins” or “range groups” and count how many data points belong to each of those bins."
   ]
  },
  {
   "cell_type": "code",
   "execution_count": null,
   "id": "d679d8c5",
   "metadata": {},
   "outputs": [],
   "source": [
    "# X-axis values- generate 100 random numbers between (0,1) and save them in x\n",
    "from numpy import random\n",
    "random.seed(seed=2) # to generate the same random numbers in every run\n",
    "x=random.rand(100)\n",
    "\n",
    "# function to plot- by default this histogram has 10 bins/blocks\n",
    "plt.hist(x)\n",
    "# also try the line below instead, with bins and see how the blocks change\n",
    "#plt.hist(x, bins = [0, 0.25, 0.50, 0.75, 1])\n",
    "#or\n",
    "#plt.hist(x, bins = 4)\n",
    "\n",
    "# add labels and title to the plot\n",
    "plt.xlabel(\"X-axis data\")\n",
    "plt.ylabel(\"frequency of each observation\")\n",
    "plt.title('Histogram of X')\n",
    "\n",
    "# function to show the plot\n",
    "plt.show()\n",
    "\n",
    "# How many observations are between 0-0.1?\n",
    "# How many observations are between 0-0.25?"
   ]
  },
  {
   "cell_type": "markdown",
   "id": "9d36275b",
   "metadata": {},
   "source": [
    "It is not difficult to make more complicated plots with `matplotlib`. However, we are going to move on to learn about another visualisation library which provides a better structured way to plot data."
   ]
  },
  {
   "cell_type": "markdown",
   "id": "e0bd4433",
   "metadata": {},
   "source": [
    "## seaborn library"
   ]
  },
  {
   "attachments": {
    "function_overview_8_0.png": {
     "image/png": "[encoded data removed]"
    }
   },
   "cell_type": "markdown",
   "id": "e4f4ce92",
   "metadata": {},
   "source": [
    "[Seaborn](https://seaborn.pydata.org/tutorial/introduction.html) is a library/module/package for making statistical graphics in Python. It builds on top of matplotlib and integrates closely with pandas data structures. Seaborn has a nice structure which makes plotting easier using three types of `relplot`, `displot`, and `catplot` (“relational”, “distributional”, and “categorical” plots). \n",
    "\n",
    "The general command is: \n",
    "\n",
    "`sns.---plot(data=---, x=\"---\", kind=\"---\")`\n",
    "\n",
    "and you can add appropriate  optional elements to it:\n",
    "\n",
    "`sns.---plot(data=---, x=\"---\", y=\"---\", kind=\"--\", hue=\"---\", multiple=\"---\", col/row=\"---\", style=\"---\", size=\"---\", ...)`\n",
    "\n",
    "You can also check seaborn's [Gallary](https://seaborn.pydata.org/examples/index.html) and choose the plot you need, copy the code and try to reproduce it for your data.\n",
    "\n",
    "\n",
    "![function_overview_8_0.png](attachment:function_overview_8_0.png)\n",
    "\n",
    "Here we make a few visualisations using Seaborn for the `kc_house_data.csv` data. \n",
    "\n",
    "We need to import the seaborn library first:\n"
   ]
  },
  {
   "cell_type": "code",
   "execution_count": null,
   "id": "e774d9ce",
   "metadata": {},
   "outputs": [],
   "source": [
    "# import seaborn\n",
    "import seaborn as sns\n",
    "\n",
    "# and importing other packages we may need\n",
    "import pandas as pd\n",
    "import numpy as np\n",
    "import matplotlib.pyplot as plt"
   ]
  },
  {
   "cell_type": "markdown",
   "id": "96fe3db5",
   "metadata": {},
   "source": [
    "## Data\n",
    "\n",
    "This dataset contains house sale prices for King County ([link](https://www.kaggle.com/datasets/harlfoxem/housesalesprediction)). \"King County is located in the U.S. state of Washington. The population was 2,269,675 in the 2020 census, making it the most populous county in Washington, and the 13th-most populous in the United States. The county seat is Seattle, also the state's most populous city.\" The dataset includes homes sold between May 2014 and May 2015.\n",
    "\n",
    "The dataset variables are given below, but we will not be using all of them:\n",
    "* id - Unique ID for each home sold\n",
    "* date - Date of the home sale\n",
    "* price - Price of each home sold (response variable)\n",
    "* bedrooms - Number of bedrooms\n",
    "* bathrooms - Number of bathrooms, where .5 accounts for a room with a toilet but no shower\n",
    "* sqft_living - Square footage of the apartments interior living space\n",
    "* sqft_lot - Square footage of the land space\n",
    "* floors - Number of floors\n",
    "* view - An index from 0 to 4 of how good the view of the property was\n",
    "* condition - An index from 1 to 5 on the condition of the apartment,\n",
    "* grade - An index from 1 to 13, where 1-3 falls short of building construction and design,  7 has an average level of construction and design, and 11-13 have a high quality level of construction and design.\n",
    "* sqft_above - The square footage of the interior housing space that is above ground level\n",
    "* yr_built - The year the house was initially built\n",
    "* sqft_basement - The square footage of the interior housing space that is below ground level\n",
    "* waterfront - A dummy variable for whether the apartment was overlooking the waterfront or not\n",
    "* yr_renovated - The year of the house’s last renovation\n",
    "* zipcode - What zipcode area the house is in\n",
    "* lat - Lattitude\n",
    "* long - Longitude\n",
    "* sqft_living15 - The square footage of interior housing living space for the nearest 15 neighbors\n",
    "* sqft_lot15 - The square footage of the land lots of the nearest 15 neighbors\n",
    "\n",
    "Read in the dataset by running the following code."
   ]
  },
  {
   "cell_type": "code",
   "execution_count": null,
   "id": "d64455aa",
   "metadata": {
    "scrolled": true
   },
   "outputs": [],
   "source": [
    "# import the data\n",
    "housedata = pd.read_csv(\"kc_house_data.csv\")\n",
    "\n",
    "# store log of prices in the data file\n",
    "housedata[\"logprice\"] = np.log(housedata[\"price\"])\n",
    "\n",
    "# the first 5 rows of the data\n",
    "housedata.head()"
   ]
  },
  {
   "cell_type": "code",
   "execution_count": null,
   "id": "3e1b1d81",
   "metadata": {},
   "outputs": [],
   "source": [
    "# check the values of a column, for example \"condition\"\n",
    "housedata[\"condition\"].describe()"
   ]
  },
  {
   "cell_type": "markdown",
   "id": "c9e1dee0",
   "metadata": {},
   "source": [
    "### displot\n",
    "\n",
    "Let's start with a distributional plot (which shows how values are distributed), for example a histogram for `logprice`.  In a Seaborn plot, we usually need to specify the dataset and the variable on X axis (maybe the variable on Y axis too). Then you can set the type of the plot to be `kind=\"hist\"` or `kind=\"kde\"` or other types. You can control the number of distinguished bars in a histogram with `bins=---` and make the histogram more/less smooth."
   ]
  },
  {
   "cell_type": "code",
   "execution_count": null,
   "id": "782d0ef1",
   "metadata": {},
   "outputs": [],
   "source": [
    "sns.displot(data=housedata, x=\"logprice\", kind=\"hist\", bins=20)\n",
    "# plot's title\n",
    "plt.title('Histograme of house price')\n",
    "# Seaborn is built on top of Matplotlib, so we still need plt.show() to display the plot\n",
    "plt.show()"
   ]
  },
  {
   "cell_type": "markdown",
   "id": "6403cebc",
   "metadata": {},
   "source": [
    "Now we want to display the distribution of `logprice` for each level of variable `condition` seperately. Seaborn has a helpful option in this case, `hue` which seperates levels of the categorical variable with different colors. Here similar colors have been used because `condition` is an ordinal/discrete variable."
   ]
  },
  {
   "cell_type": "code",
   "execution_count": null,
   "id": "abeed66f",
   "metadata": {
    "scrolled": false
   },
   "outputs": [],
   "source": [
    "sns.displot(data=housedata, x=\"logprice\", kind=\"hist\", hue=\"condition\")\n",
    "plt.show()"
   ]
  },
  {
   "cell_type": "markdown",
   "id": "996fc649",
   "metadata": {},
   "source": [
    "Change the plot's `kind` to `kde` (kernel distribution estimation) to fit an approximate curve instead of a histogram. Try it with and without `multiple=\"stack\"`."
   ]
  },
  {
   "cell_type": "code",
   "execution_count": null,
   "id": "d4d56da8",
   "metadata": {},
   "outputs": [],
   "source": [
    "sns.displot(data=housedata, x=\"logprice\", kind=\"kde\", hue=\"condition\", multiple=\"stack\")\n",
    "plt.show()"
   ]
  },
  {
   "cell_type": "markdown",
   "id": "981fc3b1",
   "metadata": {},
   "source": [
    "A useful feature of sns functions is that they can create figures with multiple subplots. For example, instead of stacking several  distributions for each house `condition` in the same axes, we can “facet” them by plotting each distribution across the columns `col` (or rows `row`) of the figure. Double click on the figure to zoom in."
   ]
  },
  {
   "cell_type": "code",
   "execution_count": null,
   "id": "949d86aa",
   "metadata": {},
   "outputs": [],
   "source": [
    "sns.displot(data=housedata, x=\"logprice\", kind=\"hist\", col=\"condition\")\n",
    "plt.show()"
   ]
  },
  {
   "cell_type": "markdown",
   "id": "5623c455",
   "metadata": {},
   "source": [
    "Distribution plots can be used for visualising two variables at once. Assigning a second variable to y, will plot a bivariate distribution to describe the relationship between them. Here we have most of the observations in the darker part of the middle of the plot."
   ]
  },
  {
   "cell_type": "code",
   "execution_count": null,
   "id": "169b616b",
   "metadata": {},
   "outputs": [],
   "source": [
    "housedata[\"log_sqft_lot\"] = np.log(housedata[\"sqft_lot\"])\n",
    "sns.displot(data=housedata, x=\"logprice\", y=\"log_sqft_lot\", kind=\"hist\")\n",
    "plt.show()"
   ]
  },
  {
   "cell_type": "markdown",
   "id": "0eecc299",
   "metadata": {},
   "source": [
    "### relplot\n",
    "\n",
    "`relplot` makes scatter plots and line plots. The function has the same structure as `displot`. We need to specify, `x, y, kind`, and there are optional elements like `hue` and `col/row`. Run the cod below and then try it with `style` and `size` instead of `hue`.\n"
   ]
  },
  {
   "cell_type": "code",
   "execution_count": null,
   "id": "aa10757b",
   "metadata": {},
   "outputs": [],
   "source": [
    "sns.relplot(data=housedata, x=\"sqft_living15\", y=\"logprice\", kind=\"scatter\", hue=\"view\")\n",
    "plt.show()"
   ]
  },
  {
   "cell_type": "markdown",
   "id": "a494d901",
   "metadata": {},
   "source": [
    "A `line` plot is usually a good option to show continuity, for example, when there is a time or data variable in the dataset. For the purpose of ilustration we make a line plot below for price and the number of floors. The blue line shows the mean logprice for each floor number and the shaded area shows 95% confidence intervals."
   ]
  },
  {
   "cell_type": "code",
   "execution_count": null,
   "id": "521cfaf8",
   "metadata": {},
   "outputs": [],
   "source": [
    "sns.relplot(data=housedata, x=\"floors\", y=\"logprice\", kind=\"line\")\n",
    "plt.show()"
   ]
  },
  {
   "cell_type": "code",
   "execution_count": null,
   "id": "08f0333c",
   "metadata": {},
   "outputs": [],
   "source": [
    "# making seperate lines for each `view`\n",
    "sns.relplot(data=housedata, x=\"floors\", y=\"logprice\", kind=\"line\", hue=\"view\", errorbar=None)\n",
    "plt.show()"
   ]
  },
  {
   "cell_type": "markdown",
   "id": "ee5143c6",
   "metadata": {},
   "source": [
    "### catplo\n",
    "\n",
    "`catplot` is used for plotting categorical variables. A barplot is a simple way to show count data or frequencies. \n",
    "\n",
    "In seaborn you can usually choose different [color palettes](https://seaborn.pydata.org/tutorial/color_palettes.html) for your plots."
   ]
  },
  {
   "cell_type": "code",
   "execution_count": null,
   "id": "3289e423",
   "metadata": {},
   "outputs": [],
   "source": [
    "sns.catplot(data=housedata, x=\"floors\", kind=\"count\", palette=\"Set2\")\n",
    "plt.show()"
   ]
  },
  {
   "cell_type": "markdown",
   "id": "add71582",
   "metadata": {},
   "source": [
    "We can make this plot more advanced by adding a Y variable. Then the length of the bars show the \"mean\" value of Y for each level/category of X. The small, black bars on top show a confidence interval around mean."
   ]
  },
  {
   "cell_type": "code",
   "execution_count": null,
   "id": "57cff8bb",
   "metadata": {},
   "outputs": [],
   "source": [
    "sns.catplot(data=housedata, x=\"floors\", y=\"logprice\", kind=\"bar\", palette=\"Set2\")\n",
    "plt.show()"
   ]
  },
  {
   "cell_type": "markdown",
   "id": "dd59c971",
   "metadata": {},
   "source": [
    "We can display more detailed information in such a plot by adding another categorical variable as `hue`. Then  there is a bar plot for each combination of `condition` and `floors`."
   ]
  },
  {
   "cell_type": "code",
   "execution_count": null,
   "id": "8e1c0907",
   "metadata": {},
   "outputs": [],
   "source": [
    "sns.catplot(data=housedata, x=\"floors\", y=\"logprice\", kind=\"bar\", hue=\"condition\")\n",
    "plt.show()"
   ]
  },
  {
   "cell_type": "markdown",
   "id": "708c3042",
   "metadata": {},
   "source": [
    "A boxplot is a great tool for summarising variables as it gives a visual indication of how a variable's mean, median, minimum, maximum and outlier values are spread out (__you will learn about what boxplots show next week- for now let's just learn how to make one__). You can make a boxplot using `catplot` by just changing the `kind` option."
   ]
  },
  {
   "cell_type": "code",
   "execution_count": null,
   "id": "c33a6b62",
   "metadata": {},
   "outputs": [],
   "source": [
    "sns.catplot(data=housedata, x=\"floors\", y=\"logprice\", kind=\"box\", hue=\"condition\", palette=\"Set2\")\n",
    "plt.show()"
   ]
  },
  {
   "cell_type": "code",
   "execution_count": null,
   "id": "455e97f7",
   "metadata": {},
   "outputs": [],
   "source": [
    "# change the size of the sns figure to make it easier to read\n",
    "sns.catplot(data=housedata, x=\"floors\", y=\"logprice\", kind=\"box\", hue=\"condition\", palette=\"Set2\",\n",
    "            height=5, # make the plot 5 units high\n",
    "            aspect=3) # height should be three times width\n",
    "plt.show()"
   ]
  },
  {
   "cell_type": "markdown",
   "id": "bd0e8480",
   "metadata": {},
   "source": [
    "Try different `catplot` plots by changing the `kind` option to `violin`, `strip`, `point`."
   ]
  },
  {
   "cell_type": "markdown",
   "id": "f5616c9d",
   "metadata": {},
   "source": [
    "# Exercises"
   ]
  },
  {
   "cell_type": "markdown",
   "id": "f7aea5b8",
   "metadata": {},
   "source": [
    "1. Make a plot with two boxplots that show how `logprice` is distributed for the two levels of `waterfront`. Do houses with a water front veiw have higher prices?"
   ]
  },
  {
   "cell_type": "code",
   "execution_count": null,
   "id": "587145da",
   "metadata": {},
   "outputs": [],
   "source": []
  },
  {
   "cell_type": "markdown",
   "id": "b683e900",
   "metadata": {},
   "source": [
    "2. Make scatter plots that show house prices, `logprice`, against square footage of the land space, `sqft_lot`, for each `condition` value. Can you say that for higher `sqft_lot` the house prices are higher too? Is the pattern different for each condition?"
   ]
  },
  {
   "cell_type": "code",
   "execution_count": null,
   "id": "78ac4292",
   "metadata": {},
   "outputs": [],
   "source": []
  },
  {
   "cell_type": "markdown",
   "id": "7eb43bd1",
   "metadata": {},
   "source": [
    "3. Play around with this dataset and try different types of Seaborn plots. Think about what information each plot presents and what type of plot is better for what variables."
   ]
  },
  {
   "cell_type": "code",
   "execution_count": null,
   "id": "11c7d1d8",
   "metadata": {},
   "outputs": [],
   "source": []
  }
 ],
 "metadata": {
  "kernelspec": {
   "display_name": "Python 3 (ipykernel)",
   "language": "python",
   "name": "python3"
  },
  "language_info": {
   "codemirror_mode": {
    "name": "ipython",
    "version": 3
   },
   "file_extension": ".py",
   "mimetype": "text/x-python",
   "name": "python",
   "nbconvert_exporter": "python",
   "pygments_lexer": "ipython3",
   "version": "3.9.13"
  }
 },
 "nbformat": 4,
 "nbformat_minor": 5
}
